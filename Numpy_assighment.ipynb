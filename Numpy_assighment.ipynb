{
 "cells": [
  {
   "cell_type": "code",
   "execution_count": null,
   "id": "69170b21-e3db-45a7-b040-16ef354965fc",
   "metadata": {},
   "outputs": [],
   "source": [
    "#1. What is a Python library?? Why do we use Python libraries\n",
    "#ansewr\n",
    "#python library is where we store many function or collection of functions call as libraries \n",
    "#a collection of related modules that contain bundles of code that can be used repeatedly in different programs\n",
    "#we use library for optimised approch and doing calculation and method fast\n",
    "# like panda and numpy and random"
   ]
  },
  {
   "cell_type": "code",
   "execution_count": null,
   "id": "1278c03a-a3f6-4d1c-b440-7e94266268c5",
   "metadata": {},
   "outputs": [],
   "source": [
    "# 2. What is the difference between Numpy array and List?\n",
    "# list -->  1.list store hetrogenues data\n",
    "# -------> 2. list is slow compraisone array\n",
    "# -------> 3. list have Dynamic size \n",
    "# -------> 4. Stored in a linked list\n",
    "# -------> 5. Does not support vectorized operations\n",
    "# NUMPY array -->  1. Fixed size\n",
    "# -------> 2. Stored in a contiguous block of memory\n",
    "# -------> 3. Supports vectorized operations (operations that are applied to all elements of the array simultaneously)\n",
    "# -------> 4. Much faster than lists for numerical operations"
   ]
  },
  {
   "cell_type": "code",
   "execution_count": null,
   "id": "00d4c28e-72fe-4cb8-871e-c8960a9fb277",
   "metadata": {},
   "outputs": [],
   "source": [
    "#3. Find the shape, size and dimension of the following array?\n",
    "import numpy as np\n",
    "q =[[1, 2, 3, 4],\n",
    "    [5, 6, 7, 8],\n",
    "    [9, 10, 11, 12]]\n",
    "data = np.array(q)\n",
    "print(data.shape)\n",
    "print(data.size)\n",
    "print(data.ndim)"
   ]
  },
  {
   "cell_type": "code",
   "execution_count": null,
   "id": "dc2b6350-f7ee-45a8-b3f2-483d0e0cbe7c",
   "metadata": {},
   "outputs": [],
   "source": [
    "#4. Write python co^e to access the first row of the following array?\n",
    "matrix = [[1, 2, 3, 4],\n",
    "          [5, 6, 7, 8],\n",
    "          [9, 10, 11, 12]]\n",
    "d2 = np.array(matrix)\n",
    "d2[0]"
   ]
  },
  {
   "cell_type": "code",
   "execution_count": null,
   "id": "938f92d4-9937-43b2-8f88-d3ce90eeef90",
   "metadata": {},
   "outputs": [],
   "source": [
    "#5. How do you access the element at the third row and fourth column from the given numpy array?\n",
    "mat =[[1, 2, 3, 4],\n",
    "      [5, 6, 7, 8],\n",
    "      [9, 10, 11, 12]]\n",
    "ae = np.array(mat)\n",
    "ae[2,3]"
   ]
  },
  {
   "cell_type": "code",
   "execution_count": null,
   "id": "a2c9fde0-ef2f-47d6-9305-11eb8490a53b",
   "metadata": {},
   "outputs": [],
   "source": [
    "#6. Write code to extract all odd-indexed elements from the given numpy array?\n",
    "import numpy as np\n",
    "\n",
    "mat = np.array([[1, 2, 3, 4],\n",
    "                [5, 6, 7, 8],\n",
    "                [9, 10, 11, 12]])\n",
    "\n",
    "odd_indexed_elements = mat[0:3,0::2]\n",
    "print(odd_indexed_elements)"
   ]
  },
  {
   "cell_type": "code",
   "execution_count": null,
   "id": "6e311b80-161b-4825-9936-057e947713ff",
   "metadata": {},
   "outputs": [],
   "source": [
    "#7. How can you generate a random 3x3 matrix with values between 0 an^ 1\n",
    "np.random.rand(3,3)"
   ]
  },
  {
   "cell_type": "code",
   "execution_count": null,
   "id": "07673d85-d13c-48cc-b6c0-0aa9963490d9",
   "metadata": {},
   "outputs": [],
   "source": [
    "#8. Describe the difference between np.random.rand and np.random.randn?\n",
    "print(\"In summary, np.random.rand generates random numbers from a uniform distribution,[0,)\")\n",
    "print(np.random.rand(3,3))\n",
    "print(\"while np.random.randn generates random numbers from a standard normal distribution. \")\n",
    "print(np.random.randn(2,4))"
   ]
  },
  {
   "cell_type": "code",
   "execution_count": null,
   "id": "4acffe1b-4324-434d-902a-905f2492b3b6",
   "metadata": {},
   "outputs": [],
   "source": [
    "#9. Write co^e to increase the dimension of the following array?\n",
    "before =[[1, 2, 3, 4],\n",
    "         [5, 6, 7, 8],\n",
    "         [9, 10, 11, 12]]\n",
    "bef = np.array(before)\n",
    "np.expand_dims(bef,axis=0)"
   ]
  },
  {
   "cell_type": "code",
   "execution_count": null,
   "id": "d5e40290-6315-474d-931b-19861d2f42f8",
   "metadata": {},
   "outputs": [],
   "source": [
    "#10. How to transpose the following array in NumPy?\n",
    "arr1 =[[1, 2, 3, 4],\n",
    "       [5, 6, 7, 8],\n",
    "       [9, 10, 11, 12]]\n",
    "a = np.array(arr1)\n",
    "np.transpose(a)"
   ]
  },
  {
   "cell_type": "code",
   "execution_count": null,
   "id": "0808c3cc-e152-4ce5-8c03-b7a237c6dc15",
   "metadata": {},
   "outputs": [],
   "source": [
    "#11. Consider the following matrix:\n",
    "#Matrix A2 [[1, 2, 3, 4] [5, 6, 7, 8],[9, 10, 11, 12]]\n",
    "#Matrix B2 [[1, 2, 3, 4] [5, 6, 7, 8],[9, 10, 11, 12]]\n",
    "#Perform the following operation using Python\n",
    "# 1.index wise muliplacation \n",
    "\n",
    "Matrix_A2=[[1, 2, 3, 4],\n",
    "           [5, 6, 7, 8],\n",
    "           [9, 10, 11, 12]]\n",
    "Matrix_B2=[[1, 2, 3, 4],\n",
    "           [5, 6, 7, 8],\n",
    "           [9, 10, 11, 12]]\n",
    "print(np.array(Matrix_A2) * np.array(Matrix_B2))\n",
    "\n",
    "print(\"# 2 Matrix multiplication\")\n",
    "import numpy as np\n",
    "matrix_A = np.array([[1, 2, 3], [4, 5, 6], [7, 8, 9]])\n",
    "matrix_B = np.array([[10, 11, 12], [13, 14, 15], [16, 17, 18]])\n",
    "product = matrix_A @ matrix_B\n",
    "print(product)\n",
    "print(\"#  Add both the matricK\")\n",
    "print(np.array(Matrix_A2) + np.array(Matrix_B2))\n",
    "print(\"Subtract matrix B from A\")\n",
    "print(np.array(Matrix_B2) - np.array(Matrix_A2))\n",
    "print(\" Divide Matrix B by A\")\n",
    "print(np.array(Matrix_A2) / np.array(Matrix_B2))"
   ]
  },
  {
   "cell_type": "code",
   "execution_count": null,
   "id": "6045f70d-2c8f-4015-9a96-06b8171cffdd",
   "metadata": {},
   "outputs": [],
   "source": [
    "#12.  Which function in Numpy can be usee to swap the byte order of an array?\n",
    "a = np.array([1,2,3,4])\n",
    "b = a.byteswap()\n",
    "print(a)\n",
    "print(b)\n",
    "print(\"Change the byte-ordering information in the array dtype so that it interprets the underlying data as being in a different byte order. This is the role of arr.newbyteorder () Change the byte-ordering of the underlying data, leaving the dtype interpretation as it was. This is what arr.byteswap () does.\")\n"
   ]
  },
  {
   "cell_type": "code",
   "execution_count": null,
   "id": "6c4a2e0a-317f-4b39-9a54-30c0900041fb",
   "metadata": {},
   "outputs": [],
   "source": [
    "#13.  What is the significance of the np.linalg.inv function?\n",
    "print(\"It use to make matrix data invese form\")\n",
    "A = np.array([[1,2],[3,4]])\n",
    "B = np.linalg.inv(A)\n",
    "print(A@B)\n",
    "print(\"it is used in solving linearequations\")\n",
    "a= np.array([[7,5,-3],[3,-5,2],[5,3,-7]],int)\n",
    "b = np.array([16,-8,0],int)\n",
    "print(np.linalg.solve(a,b))"
   ]
  },
  {
   "cell_type": "code",
   "execution_count": null,
   "id": "d9817f98-03ec-4114-9607-11b4a5e08543",
   "metadata": {},
   "outputs": [],
   "source": [
    "#14. What ^oes the np.reshape function ^o, an^ how is it use^\n",
    "print(\"It is used to reshape the matrix in other form of shape it reshape our matrix but alwas remember the size of matrix is = row* coleum\")"
   ]
  },
  {
   "cell_type": "code",
   "execution_count": null,
   "id": "99e5c4d5-ec7f-43bd-bfef-11f2a02d0245",
   "metadata": {},
   "outputs": [],
   "source": [
    "#15. What is broadcasting in Numpy\n",
    "print(\"describes how NumPy treats arrays with different shapes during arithmetic operations\")\n",
    "print(\"using <,>,=\")\n",
    "print(\"example\")\n",
    "re = np.random.randint(5,size =(2,5))\n",
    "print(re<5)\n",
    "print()\n",
    "print(re<5)\n",
    "print()\n",
    "print(re==5)"
   ]
  },
  {
   "cell_type": "code",
   "execution_count": 199,
   "id": "7294d9f5-4b85-4190-a602-38f33e782baf",
   "metadata": {},
   "outputs": [
    {
     "data": {
      "text/plain": [
       "3"
      ]
     },
     "execution_count": 199,
     "metadata": {},
     "output_type": "execute_result"
    }
   ],
   "source": []
  },
  {
   "cell_type": "code",
   "execution_count": null,
   "id": "2795cb50-f6f4-4a5d-8485-cd53199504c4",
   "metadata": {},
   "outputs": [],
   "source": []
  }
 ],
 "metadata": {
  "kernelspec": {
   "display_name": "Python 3 (ipykernel)",
   "language": "python",
   "name": "python3"
  },
  "language_info": {
   "codemirror_mode": {
    "name": "ipython",
    "version": 3
   },
   "file_extension": ".py",
   "mimetype": "text/x-python",
   "name": "python",
   "nbconvert_exporter": "python",
   "pygments_lexer": "ipython3",
   "version": "3.10.8"
  }
 },
 "nbformat": 4,
 "nbformat_minor": 5
}
